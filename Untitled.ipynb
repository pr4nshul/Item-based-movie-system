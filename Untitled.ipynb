{
 "cells": [
  {
   "cell_type": "code",
   "execution_count": 2,
   "metadata": {},
   "outputs": [],
   "source": [
    "import pandas as pd\n",
    "import seaborn as sns\n",
    "import matplotlib.pyplot as plt"
   ]
  },
  {
   "cell_type": "code",
   "execution_count": 3,
   "metadata": {},
   "outputs": [
    {
     "name": "stderr",
     "output_type": "stream",
     "text": [
      "c:\\users\\prans\\appdata\\local\\programs\\python\\python37-32\\lib\\site-packages\\ipykernel_launcher.py:1: ParserWarning: Falling back to the 'python' engine because the 'c' engine does not support regex separators (separators > 1 char and different from '\\s+' are interpreted as regex); you can avoid this warning by specifying engine='python'.\n",
      "  \"\"\"Entry point for launching an IPython kernel.\n"
     ]
    }
   ],
   "source": [
    "ratingpd = pd.read_csv('ratings.dat',sep='::',names = ['User_ID','Movie_ID','Rating','Timestamp'])"
   ]
  },
  {
   "cell_type": "code",
   "execution_count": null,
   "metadata": {},
   "outputs": [],
   "source": [
    "\n",
    "\n"
   ]
  },
  {
   "cell_type": "code",
   "execution_count": 4,
   "metadata": {},
   "outputs": [
    {
     "name": "stderr",
     "output_type": "stream",
     "text": [
      "c:\\users\\prans\\appdata\\local\\programs\\python\\python37-32\\lib\\site-packages\\ipykernel_launcher.py:1: ParserWarning: Falling back to the 'python' engine because the 'c' engine does not support regex separators (separators > 1 char and different from '\\s+' are interpreted as regex); you can avoid this warning by specifying engine='python'.\n",
      "  \"\"\"Entry point for launching an IPython kernel.\n"
     ]
    }
   ],
   "source": [
    "movieName = pd.read_csv('movies.dat',sep = '::' , names = ['Movie_ID','Title','Genre'])\n"
   ]
  },
  {
   "cell_type": "code",
   "execution_count": 11,
   "metadata": {},
   "outputs": [],
   "source": [
    "Dataset = ratingpd.merge(movieName ,on ='Movie_ID')\n",
    "Dataset = Dataset.drop(columns = ['Timestamp'])"
   ]
  },
  {
   "cell_type": "code",
   "execution_count": 12,
   "metadata": {},
   "outputs": [],
   "source": [
    "mean_r = Dataset.groupby('Title').mean()\n"
   ]
  },
  {
   "cell_type": "code",
   "execution_count": 16,
   "metadata": {},
   "outputs": [
    {
     "data": {
      "text/html": [
       "<div>\n",
       "<style scoped>\n",
       "    .dataframe tbody tr th:only-of-type {\n",
       "        vertical-align: middle;\n",
       "    }\n",
       "\n",
       "    .dataframe tbody tr th {\n",
       "        vertical-align: top;\n",
       "    }\n",
       "\n",
       "    .dataframe thead th {\n",
       "        text-align: right;\n",
       "    }\n",
       "</style>\n",
       "<table border=\"1\" class=\"dataframe\">\n",
       "  <thead>\n",
       "    <tr style=\"text-align: right;\">\n",
       "      <th></th>\n",
       "      <th>User_ID</th>\n",
       "      <th>Movie_ID</th>\n",
       "      <th>Rating</th>\n",
       "      <th>count</th>\n",
       "    </tr>\n",
       "    <tr>\n",
       "      <th>Title</th>\n",
       "      <th></th>\n",
       "      <th></th>\n",
       "      <th></th>\n",
       "      <th></th>\n",
       "    </tr>\n",
       "  </thead>\n",
       "  <tbody>\n",
       "    <tr>\n",
       "      <th>$1,000,000 Duck (1971)</th>\n",
       "      <td>2865.432432</td>\n",
       "      <td>2031.0</td>\n",
       "      <td>3.027027</td>\n",
       "      <td>37</td>\n",
       "    </tr>\n",
       "    <tr>\n",
       "      <th>'Night Mother (1986)</th>\n",
       "      <td>3231.714286</td>\n",
       "      <td>3112.0</td>\n",
       "      <td>3.371429</td>\n",
       "      <td>70</td>\n",
       "    </tr>\n",
       "    <tr>\n",
       "      <th>'Til There Was You (1997)</th>\n",
       "      <td>2729.769231</td>\n",
       "      <td>779.0</td>\n",
       "      <td>2.692308</td>\n",
       "      <td>52</td>\n",
       "    </tr>\n",
       "    <tr>\n",
       "      <th>'burbs, The (1989)</th>\n",
       "      <td>2954.333333</td>\n",
       "      <td>2072.0</td>\n",
       "      <td>2.910891</td>\n",
       "      <td>303</td>\n",
       "    </tr>\n",
       "    <tr>\n",
       "      <th>...And Justice for All (1979)</th>\n",
       "      <td>3173.246231</td>\n",
       "      <td>3420.0</td>\n",
       "      <td>3.713568</td>\n",
       "      <td>199</td>\n",
       "    </tr>\n",
       "    <tr>\n",
       "      <th>...</th>\n",
       "      <td>...</td>\n",
       "      <td>...</td>\n",
       "      <td>...</td>\n",
       "      <td>...</td>\n",
       "    </tr>\n",
       "    <tr>\n",
       "      <th>Zed &amp; Two Noughts, A (1985)</th>\n",
       "      <td>3309.344828</td>\n",
       "      <td>3223.0</td>\n",
       "      <td>3.413793</td>\n",
       "      <td>29</td>\n",
       "    </tr>\n",
       "    <tr>\n",
       "      <th>Zero Effect (1998)</th>\n",
       "      <td>2895.013289</td>\n",
       "      <td>1845.0</td>\n",
       "      <td>3.750831</td>\n",
       "      <td>301</td>\n",
       "    </tr>\n",
       "    <tr>\n",
       "      <th>Zero Kelvin (Kjærlighetens kjøtere) (1995)</th>\n",
       "      <td>2814.500000</td>\n",
       "      <td>1364.0</td>\n",
       "      <td>3.500000</td>\n",
       "      <td>2</td>\n",
       "    </tr>\n",
       "    <tr>\n",
       "      <th>Zeus and Roxanne (1997)</th>\n",
       "      <td>2604.304348</td>\n",
       "      <td>1426.0</td>\n",
       "      <td>2.521739</td>\n",
       "      <td>23</td>\n",
       "    </tr>\n",
       "    <tr>\n",
       "      <th>eXistenZ (1999)</th>\n",
       "      <td>2860.004878</td>\n",
       "      <td>2600.0</td>\n",
       "      <td>3.256098</td>\n",
       "      <td>410</td>\n",
       "    </tr>\n",
       "  </tbody>\n",
       "</table>\n",
       "<p>3706 rows × 4 columns</p>\n",
       "</div>"
      ],
      "text/plain": [
       "                                                User_ID  Movie_ID    Rating  \\\n",
       "Title                                                                         \n",
       "$1,000,000 Duck (1971)                      2865.432432    2031.0  3.027027   \n",
       "'Night Mother (1986)                        3231.714286    3112.0  3.371429   \n",
       "'Til There Was You (1997)                   2729.769231     779.0  2.692308   \n",
       "'burbs, The (1989)                          2954.333333    2072.0  2.910891   \n",
       "...And Justice for All (1979)               3173.246231    3420.0  3.713568   \n",
       "...                                                 ...       ...       ...   \n",
       "Zed & Two Noughts, A (1985)                 3309.344828    3223.0  3.413793   \n",
       "Zero Effect (1998)                          2895.013289    1845.0  3.750831   \n",
       "Zero Kelvin (Kjærlighetens kjøtere) (1995)  2814.500000    1364.0  3.500000   \n",
       "Zeus and Roxanne (1997)                     2604.304348    1426.0  2.521739   \n",
       "eXistenZ (1999)                             2860.004878    2600.0  3.256098   \n",
       "\n",
       "                                            count  \n",
       "Title                                              \n",
       "$1,000,000 Duck (1971)                         37  \n",
       "'Night Mother (1986)                           70  \n",
       "'Til There Was You (1997)                      52  \n",
       "'burbs, The (1989)                            303  \n",
       "...And Justice for All (1979)                 199  \n",
       "...                                           ...  \n",
       "Zed & Two Noughts, A (1985)                    29  \n",
       "Zero Effect (1998)                            301  \n",
       "Zero Kelvin (Kjærlighetens kjøtere) (1995)      2  \n",
       "Zeus and Roxanne (1997)                        23  \n",
       "eXistenZ (1999)                               410  \n",
       "\n",
       "[3706 rows x 4 columns]"
      ]
     },
     "execution_count": 16,
     "metadata": {},
     "output_type": "execute_result"
    }
   ],
   "source": [
    "mean_r['count'] = Dataset.groupby('Title').count()['Rating']\n",
    "mean_r\n"
   ]
  },
  {
   "cell_type": "code",
   "execution_count": 72,
   "metadata": {},
   "outputs": [
    {
     "data": {
      "image/png": "[encoded data removed]",
      "text/plain": [
       "<Figure size 720x720 with 1 Axes>"
      ]
     },
     "metadata": {
      "needs_background": "light"
     },
     "output_type": "display_data"
    }
   ],
   "source": [
    "plt.figure(figsize= (10,10))\n",
    "plt.hist(x = 'Rating',data = mean_r,bins = 70)\n",
    "plt.show()"
   ]
  },
  {
   "cell_type": "code",
   "execution_count": 17,
   "metadata": {},
   "outputs": [],
   "source": [
    "mean_r['count'] = Dataset.groupby('Title').count()['Rating']"
   ]
  },
  {
   "cell_type": "markdown",
   "metadata": {},
   "source": []
  },
  {
   "cell_type": "code",
   "execution_count": null,
   "metadata": {},
   "outputs": [],
   "source": []
  },
  {
   "cell_type": "code",
   "execution_count": 18,
   "metadata": {},
   "outputs": [],
   "source": [
    "mean_r = mean_r[mean_r['count']>200]"
   ]
  },
  {
   "cell_type": "code",
   "execution_count": 19,
   "metadata": {},
   "outputs": [
    {
     "data": {
      "image/png": "[encoded data removed]",
      "text/plain": [
       "<Figure size 1440x1440 with 1 Axes>"
      ]
     },
     "metadata": {
      "needs_background": "light"
     },
     "output_type": "display_data"
    }
   ],
   "source": [
    "plt.figure(figsize= (20,20))\n",
    "plt.hist(data = mean_r , x = 'count',bins= 70)\n",
    "plt.show()"
   ]
  },
  {
   "cell_type": "code",
   "execution_count": 57,
   "metadata": {},
   "outputs": [],
   "source": [
    "pd.pivot_table?\n"
   ]
  },
  {
   "cell_type": "code",
   "execution_count": 121,
   "metadata": {},
   "outputs": [],
   "source": [
    "Angrymen = table['12 Angry Men (1957)']"
   ]
  },
  {
   "cell_type": "code",
   "execution_count": 132,
   "metadata": {},
   "outputs": [],
   "source": [
    "table.corrwith?"
   ]
  },
  {
   "cell_type": "code",
   "execution_count": 193,
   "metadata": {},
   "outputs": [
    {
     "name": "stderr",
     "output_type": "stream",
     "text": [
      "c:\\users\\prans\\appdata\\local\\programs\\python\\python37-32\\lib\\site-packages\\numpy\\lib\\function_base.py:2526: RuntimeWarning: Degrees of freedom <= 0 for slice\n",
      "  c = cov(x, y, rowvar)\n",
      "c:\\users\\prans\\appdata\\local\\programs\\python\\python37-32\\lib\\site-packages\\numpy\\lib\\function_base.py:2455: RuntimeWarning: divide by zero encountered in true_divide\n",
      "  c *= np.true_divide(1, fact)\n"
     ]
    }
   ],
   "source": []
  },
  {
   "cell_type": "code",
   "execution_count": 200,
   "metadata": {},
   "outputs": [
    {
     "data": {
      "text/html": [
       "<div>\n",
       "<style scoped>\n",
       "    .dataframe tbody tr th:only-of-type {\n",
       "        vertical-align: middle;\n",
       "    }\n",
       "\n",
       "    .dataframe tbody tr th {\n",
       "        vertical-align: top;\n",
       "    }\n",
       "\n",
       "    .dataframe thead th {\n",
       "        text-align: right;\n",
       "    }\n",
       "</style>\n",
       "<table border=\"1\" class=\"dataframe\">\n",
       "  <thead>\n",
       "    <tr style=\"text-align: right;\">\n",
       "      <th></th>\n",
       "      <th>Corr</th>\n",
       "    </tr>\n",
       "    <tr>\n",
       "      <th>Title</th>\n",
       "      <th></th>\n",
       "    </tr>\n",
       "  </thead>\n",
       "  <tbody>\n",
       "    <tr>\n",
       "      <th>$1,000,000 Duck (1971)</th>\n",
       "      <td>0.125209</td>\n",
       "    </tr>\n",
       "    <tr>\n",
       "      <th>'Night Mother (1986)</th>\n",
       "      <td>0.213733</td>\n",
       "    </tr>\n",
       "    <tr>\n",
       "      <th>'Til There Was You (1997)</th>\n",
       "      <td>0.210259</td>\n",
       "    </tr>\n",
       "    <tr>\n",
       "      <th>'burbs, The (1989)</th>\n",
       "      <td>0.047590</td>\n",
       "    </tr>\n",
       "    <tr>\n",
       "      <th>...And Justice for All (1979)</th>\n",
       "      <td>0.303093</td>\n",
       "    </tr>\n",
       "    <tr>\n",
       "      <th>...</th>\n",
       "      <td>...</td>\n",
       "    </tr>\n",
       "    <tr>\n",
       "      <th>Your Friends and Neighbors (1998)</th>\n",
       "      <td>0.025703</td>\n",
       "    </tr>\n",
       "    <tr>\n",
       "      <th>Zed &amp; Two Noughts, A (1985)</th>\n",
       "      <td>0.333333</td>\n",
       "    </tr>\n",
       "    <tr>\n",
       "      <th>Zero Effect (1998)</th>\n",
       "      <td>0.214276</td>\n",
       "    </tr>\n",
       "    <tr>\n",
       "      <th>Zeus and Roxanne (1997)</th>\n",
       "      <td>0.596040</td>\n",
       "    </tr>\n",
       "    <tr>\n",
       "      <th>eXistenZ (1999)</th>\n",
       "      <td>0.318489</td>\n",
       "    </tr>\n",
       "  </tbody>\n",
       "</table>\n",
       "<p>3271 rows × 1 columns</p>\n",
       "</div>"
      ],
      "text/plain": [
       "                                       Corr\n",
       "Title                                      \n",
       "$1,000,000 Duck (1971)             0.125209\n",
       "'Night Mother (1986)               0.213733\n",
       "'Til There Was You (1997)          0.210259\n",
       "'burbs, The (1989)                 0.047590\n",
       "...And Justice for All (1979)      0.303093\n",
       "...                                     ...\n",
       "Your Friends and Neighbors (1998)  0.025703\n",
       "Zed & Two Noughts, A (1985)        0.333333\n",
       "Zero Effect (1998)                 0.214276\n",
       "Zeus and Roxanne (1997)            0.596040\n",
       "eXistenZ (1999)                    0.318489\n",
       "\n",
       "[3271 rows x 1 columns]"
      ]
     },
     "execution_count": 200,
     "metadata": {},
     "output_type": "execute_result"
    }
   ],
   "source": [
    "corr_angry "
   ]
  },
  {
   "cell_type": "code",
   "execution_count": 198,
   "metadata": {},
   "outputs": [
    {
     "data": {
      "text/html": [
       "<div>\n",
       "<style scoped>\n",
       "    .dataframe tbody tr th:only-of-type {\n",
       "        vertical-align: middle;\n",
       "    }\n",
       "\n",
       "    .dataframe tbody tr th {\n",
       "        vertical-align: top;\n",
       "    }\n",
       "\n",
       "    .dataframe thead th {\n",
       "        text-align: right;\n",
       "    }\n",
       "</style>\n",
       "<table border=\"1\" class=\"dataframe\">\n",
       "  <thead>\n",
       "    <tr style=\"text-align: right;\">\n",
       "      <th></th>\n",
       "      <th>User_ID</th>\n",
       "      <th>Movie_ID</th>\n",
       "      <th>Rating</th>\n",
       "      <th>count</th>\n",
       "    </tr>\n",
       "    <tr>\n",
       "      <th>Title</th>\n",
       "      <th></th>\n",
       "      <th></th>\n",
       "      <th></th>\n",
       "      <th></th>\n",
       "    </tr>\n",
       "  </thead>\n",
       "  <tbody>\n",
       "    <tr>\n",
       "      <th>'burbs, The (1989)</th>\n",
       "      <td>2954.333333</td>\n",
       "      <td>2072.0</td>\n",
       "      <td>2.910891</td>\n",
       "      <td>303</td>\n",
       "    </tr>\n",
       "    <tr>\n",
       "      <th>10 Things I Hate About You (1999)</th>\n",
       "      <td>2905.715714</td>\n",
       "      <td>2572.0</td>\n",
       "      <td>3.422857</td>\n",
       "      <td>700</td>\n",
       "    </tr>\n",
       "    <tr>\n",
       "      <th>101 Dalmatians (1961)</th>\n",
       "      <td>3102.224779</td>\n",
       "      <td>2085.0</td>\n",
       "      <td>3.596460</td>\n",
       "      <td>565</td>\n",
       "    </tr>\n",
       "    <tr>\n",
       "      <th>101 Dalmatians (1996)</th>\n",
       "      <td>3073.873626</td>\n",
       "      <td>1367.0</td>\n",
       "      <td>3.046703</td>\n",
       "      <td>364</td>\n",
       "    </tr>\n",
       "    <tr>\n",
       "      <th>12 Angry Men (1957)</th>\n",
       "      <td>3027.568182</td>\n",
       "      <td>1203.0</td>\n",
       "      <td>4.295455</td>\n",
       "      <td>616</td>\n",
       "    </tr>\n",
       "    <tr>\n",
       "      <th>...</th>\n",
       "      <td>...</td>\n",
       "      <td>...</td>\n",
       "      <td>...</td>\n",
       "      <td>...</td>\n",
       "    </tr>\n",
       "    <tr>\n",
       "      <th>Young Guns (1988)</th>\n",
       "      <td>3093.409253</td>\n",
       "      <td>1378.0</td>\n",
       "      <td>3.418149</td>\n",
       "      <td>562</td>\n",
       "    </tr>\n",
       "    <tr>\n",
       "      <th>Young Guns II (1990)</th>\n",
       "      <td>3049.409214</td>\n",
       "      <td>1379.0</td>\n",
       "      <td>2.907859</td>\n",
       "      <td>369</td>\n",
       "    </tr>\n",
       "    <tr>\n",
       "      <th>Young Sherlock Holmes (1985)</th>\n",
       "      <td>3187.981530</td>\n",
       "      <td>2414.0</td>\n",
       "      <td>3.390501</td>\n",
       "      <td>379</td>\n",
       "    </tr>\n",
       "    <tr>\n",
       "      <th>Zero Effect (1998)</th>\n",
       "      <td>2895.013289</td>\n",
       "      <td>1845.0</td>\n",
       "      <td>3.750831</td>\n",
       "      <td>301</td>\n",
       "    </tr>\n",
       "    <tr>\n",
       "      <th>eXistenZ (1999)</th>\n",
       "      <td>2860.004878</td>\n",
       "      <td>2600.0</td>\n",
       "      <td>3.256098</td>\n",
       "      <td>410</td>\n",
       "    </tr>\n",
       "  </tbody>\n",
       "</table>\n",
       "<p>1214 rows × 4 columns</p>\n",
       "</div>"
      ],
      "text/plain": [
       "                                       User_ID  Movie_ID    Rating  count\n",
       "Title                                                                    \n",
       "'burbs, The (1989)                 2954.333333    2072.0  2.910891    303\n",
       "10 Things I Hate About You (1999)  2905.715714    2572.0  3.422857    700\n",
       "101 Dalmatians (1961)              3102.224779    2085.0  3.596460    565\n",
       "101 Dalmatians (1996)              3073.873626    1367.0  3.046703    364\n",
       "12 Angry Men (1957)                3027.568182    1203.0  4.295455    616\n",
       "...                                        ...       ...       ...    ...\n",
       "Young Guns (1988)                  3093.409253    1378.0  3.418149    562\n",
       "Young Guns II (1990)               3049.409214    1379.0  2.907859    369\n",
       "Young Sherlock Holmes (1985)       3187.981530    2414.0  3.390501    379\n",
       "Zero Effect (1998)                 2895.013289    1845.0  3.750831    301\n",
       "eXistenZ (1999)                    2860.004878    2600.0  3.256098    410\n",
       "\n",
       "[1214 rows x 4 columns]"
      ]
     },
     "execution_count": 198,
     "metadata": {},
     "output_type": "execute_result"
    }
   ],
   "source": [
    "mean_r"
   ]
  },
  {
   "cell_type": "code",
   "execution_count": 201,
   "metadata": {},
   "outputs": [],
   "source": [
    "corr_angry1 = pd.merge(corr_angry,mean_r,on = 'Title')"
   ]
  },
  {
   "cell_type": "code",
   "execution_count": 202,
   "metadata": {},
   "outputs": [
    {
     "data": {
      "text/html": [
       "<div>\n",
       "<style scoped>\n",
       "    .dataframe tbody tr th:only-of-type {\n",
       "        vertical-align: middle;\n",
       "    }\n",
       "\n",
       "    .dataframe tbody tr th {\n",
       "        vertical-align: top;\n",
       "    }\n",
       "\n",
       "    .dataframe thead th {\n",
       "        text-align: right;\n",
       "    }\n",
       "</style>\n",
       "<table border=\"1\" class=\"dataframe\">\n",
       "  <thead>\n",
       "    <tr style=\"text-align: right;\">\n",
       "      <th></th>\n",
       "      <th>Corr</th>\n",
       "      <th>User_ID</th>\n",
       "      <th>Movie_ID</th>\n",
       "      <th>Rating</th>\n",
       "      <th>count</th>\n",
       "    </tr>\n",
       "    <tr>\n",
       "      <th>Title</th>\n",
       "      <th></th>\n",
       "      <th></th>\n",
       "      <th></th>\n",
       "      <th></th>\n",
       "      <th></th>\n",
       "    </tr>\n",
       "  </thead>\n",
       "  <tbody>\n",
       "    <tr>\n",
       "      <th>'burbs, The (1989)</th>\n",
       "      <td>4.758997e-02</td>\n",
       "      <td>2954.333333</td>\n",
       "      <td>2072.0</td>\n",
       "      <td>2.910891</td>\n",
       "      <td>303</td>\n",
       "    </tr>\n",
       "    <tr>\n",
       "      <th>10 Things I Hate About You (1999)</th>\n",
       "      <td>1.017301e-01</td>\n",
       "      <td>2905.715714</td>\n",
       "      <td>2572.0</td>\n",
       "      <td>3.422857</td>\n",
       "      <td>700</td>\n",
       "    </tr>\n",
       "    <tr>\n",
       "      <th>101 Dalmatians (1961)</th>\n",
       "      <td>2.714212e-01</td>\n",
       "      <td>3102.224779</td>\n",
       "      <td>2085.0</td>\n",
       "      <td>3.596460</td>\n",
       "      <td>565</td>\n",
       "    </tr>\n",
       "    <tr>\n",
       "      <th>101 Dalmatians (1996)</th>\n",
       "      <td>-1.292619e-01</td>\n",
       "      <td>3073.873626</td>\n",
       "      <td>1367.0</td>\n",
       "      <td>3.046703</td>\n",
       "      <td>364</td>\n",
       "    </tr>\n",
       "    <tr>\n",
       "      <th>12 Angry Men (1957)</th>\n",
       "      <td>1.000000e+00</td>\n",
       "      <td>3027.568182</td>\n",
       "      <td>1203.0</td>\n",
       "      <td>4.295455</td>\n",
       "      <td>616</td>\n",
       "    </tr>\n",
       "    <tr>\n",
       "      <th>...</th>\n",
       "      <td>...</td>\n",
       "      <td>...</td>\n",
       "      <td>...</td>\n",
       "      <td>...</td>\n",
       "      <td>...</td>\n",
       "    </tr>\n",
       "    <tr>\n",
       "      <th>Young Guns (1988)</th>\n",
       "      <td>3.477858e-17</td>\n",
       "      <td>3093.409253</td>\n",
       "      <td>1378.0</td>\n",
       "      <td>3.418149</td>\n",
       "      <td>562</td>\n",
       "    </tr>\n",
       "    <tr>\n",
       "      <th>Young Guns II (1990)</th>\n",
       "      <td>2.940332e-02</td>\n",
       "      <td>3049.409214</td>\n",
       "      <td>1379.0</td>\n",
       "      <td>2.907859</td>\n",
       "      <td>369</td>\n",
       "    </tr>\n",
       "    <tr>\n",
       "      <th>Young Sherlock Holmes (1985)</th>\n",
       "      <td>2.811275e-01</td>\n",
       "      <td>3187.981530</td>\n",
       "      <td>2414.0</td>\n",
       "      <td>3.390501</td>\n",
       "      <td>379</td>\n",
       "    </tr>\n",
       "    <tr>\n",
       "      <th>Zero Effect (1998)</th>\n",
       "      <td>2.142764e-01</td>\n",
       "      <td>2895.013289</td>\n",
       "      <td>1845.0</td>\n",
       "      <td>3.750831</td>\n",
       "      <td>301</td>\n",
       "    </tr>\n",
       "    <tr>\n",
       "      <th>eXistenZ (1999)</th>\n",
       "      <td>3.184892e-01</td>\n",
       "      <td>2860.004878</td>\n",
       "      <td>2600.0</td>\n",
       "      <td>3.256098</td>\n",
       "      <td>410</td>\n",
       "    </tr>\n",
       "  </tbody>\n",
       "</table>\n",
       "<p>1214 rows × 5 columns</p>\n",
       "</div>"
      ],
      "text/plain": [
       "                                           Corr      User_ID  Movie_ID  \\\n",
       "Title                                                                    \n",
       "'burbs, The (1989)                 4.758997e-02  2954.333333    2072.0   \n",
       "10 Things I Hate About You (1999)  1.017301e-01  2905.715714    2572.0   \n",
       "101 Dalmatians (1961)              2.714212e-01  3102.224779    2085.0   \n",
       "101 Dalmatians (1996)             -1.292619e-01  3073.873626    1367.0   \n",
       "12 Angry Men (1957)                1.000000e+00  3027.568182    1203.0   \n",
       "...                                         ...          ...       ...   \n",
       "Young Guns (1988)                  3.477858e-17  3093.409253    1378.0   \n",
       "Young Guns II (1990)               2.940332e-02  3049.409214    1379.0   \n",
       "Young Sherlock Holmes (1985)       2.811275e-01  3187.981530    2414.0   \n",
       "Zero Effect (1998)                 2.142764e-01  2895.013289    1845.0   \n",
       "eXistenZ (1999)                    3.184892e-01  2860.004878    2600.0   \n",
       "\n",
       "                                     Rating  count  \n",
       "Title                                               \n",
       "'burbs, The (1989)                 2.910891    303  \n",
       "10 Things I Hate About You (1999)  3.422857    700  \n",
       "101 Dalmatians (1961)              3.596460    565  \n",
       "101 Dalmatians (1996)              3.046703    364  \n",
       "12 Angry Men (1957)                4.295455    616  \n",
       "...                                     ...    ...  \n",
       "Young Guns (1988)                  3.418149    562  \n",
       "Young Guns II (1990)               2.907859    369  \n",
       "Young Sherlock Holmes (1985)       3.390501    379  \n",
       "Zero Effect (1998)                 3.750831    301  \n",
       "eXistenZ (1999)                    3.256098    410  \n",
       "\n",
       "[1214 rows x 5 columns]"
      ]
     },
     "execution_count": 202,
     "metadata": {},
     "output_type": "execute_result"
    }
   ],
   "source": [
    "corr_angry1"
   ]
  },
  {
   "cell_type": "code",
   "execution_count": null,
   "metadata": {},
   "outputs": [],
   "source": []
  },
  {
   "cell_type": "code",
   "execution_count": null,
   "metadata": {},
   "outputs": [],
   "source": []
  },
  {
   "cell_type": "code",
   "execution_count": 89,
   "metadata": {},
   "outputs": [],
   "source": [
    "def recommend(movie,n):\n",
    "    movie_name = table[movie]\n",
    "    corr_movie = table.corrwith(movie_name)\n",
    "    corr_movie = corr_movie.dropna()\n",
    "    corr_movie = pd.DataFrame(corr_movie,columns = ['Corr'])\n",
    "    corr_movie = pd.merge(corr_movie,mean_r, on='Title')\n",
    "    corr_movie = corr_movie[corr_movie['count']>200].sort_values('Corr',ascending = False)\n",
    "    movies = corr_movie.drop(columns = ['User_ID','Movie_ID','count','Corr'])\n",
    "    movies = movies.head(n)\n",
    "    movies = movies.to_dict()\n",
    "\n",
    "    return movies\n",
    "    "
   ]
  },
  {
   "cell_type": "code",
   "execution_count": 90,
   "metadata": {},
   "outputs": [
    {
     "name": "stdout",
     "output_type": "stream",
     "text": [
      "Title             Rating\n",
      "Maverick (1994)  3.52\n",
      "Wyatt Earp (1994)  3.27\n",
      "Powder (1995)  3.18\n",
      "Pale Rider (1985)  3.77\n",
      "High Noon (1952)  4.18\n",
      "Jumanji (1995)  3.20\n",
      "Little Big Man (1970)  4.04\n",
      "Mask, The (1994)  3.28\n",
      "Arachnophobia (1990)  3.00\n",
      "Westworld (1973)  3.42\n"
     ]
    }
   ],
   "source": [
    "movie = \"Zachariah (1971)\"\n",
    "prediction = recommend(movie,10)\n",
    "print('Title             Rating')\n",
    "for p in prediction['Rating']:\n",
    "    print(p ,end ='  ')\n",
    "    print('%.02f'%prediction['Rating'][p])\n",
    "    "
   ]
  },
  {
   "cell_type": "code",
   "execution_count": 188,
   "metadata": {},
   "outputs": [],
   "source": [
    "pd.merge?"
   ]
  },
  {
   "cell_type": "code",
   "execution_count": null,
   "metadata": {},
   "outputs": [],
   "source": []
  },
  {
   "cell_type": "code",
   "execution_count": null,
   "metadata": {},
   "outputs": [],
   "source": []
  }
 ],
 "metadata": {
  "kernelspec": {
   "display_name": "Python 3",
   "language": "python",
   "name": "python3"
  },
  "language_info": {
   "codemirror_mode": {
    "name": "ipython",
    "version": 3
   },
   "file_extension": ".py",
   "mimetype": "text/x-python",
   "name": "python",
   "nbconvert_exporter": "python",
   "pygments_lexer": "ipython3",
   "version": "3.7.4"
  }
 },
 "nbformat": 4,
 "nbformat_minor": 4
}
